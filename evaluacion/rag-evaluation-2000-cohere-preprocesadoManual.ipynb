{
 "cells": [
  {
   "cell_type": "code",
   "execution_count": 1,
   "id": "8e5ca304-5537-4992-a2fa-e21d406dc831",
   "metadata": {},
   "outputs": [
    {
     "name": "stderr",
     "output_type": "stream",
     "text": [
      "C:\\Users\\jose.farfan\\AppData\\Local\\anaconda3\\envs\\tfm\\Lib\\site-packages\\tqdm\\auto.py:21: TqdmWarning: IProgress not found. Please update jupyter and ipywidgets. See https://ipywidgets.readthedocs.io/en/stable/user_install.html\n",
      "  from .autonotebook import tqdm as notebook_tqdm\n"
     ]
    }
   ],
   "source": [
    "import pandas as pd\n",
    "import matplotlib.pyplot as plt\n",
    "from datasets import Dataset\n",
    "from langchain_cohere import CohereEmbeddings\n",
    "from langchain.vectorstores import Pinecone\n",
    "from langchain.chains import RetrievalQA\n",
    "from langchain_openai import OpenAI\n",
    "from langchain_openai import ChatOpenAI\n",
    "from langchain.chains.question_answering import load_qa_chain\n",
    "from langchain.prompts import PromptTemplate\n",
    "from dotenv import load_dotenv\n",
    "import os"
   ]
  },
  {
   "cell_type": "code",
   "execution_count": 2,
   "id": "c2d9a7bf-d081-4ce1-a8b5-28912ac64cd5",
   "metadata": {},
   "outputs": [],
   "source": [
    "load_dotenv()\n",
    "openai_api_key =  os.getenv(\"OPENAI_API_KEY\")\n",
    "pinecone_api_key = os.environ[\"PINECONE_API_KEY\"]\n",
    "index_name='tfm-rag-cohere'\n",
    "namespace = \"tfm-rag-cohere\"\n",
    "\n",
    "embeddings = CohereEmbeddings(\n",
    "    model=\"embed-multilingual-v3.0\",cohere_api_key='VzxeMVJmQRIW3znOIhKcehSZaxZWbNjrAAUJ7XfQ'\n",
    ")\n",
    "vstore = Pinecone.from_existing_index(\n",
    "    index_name=index_name,\n",
    "    namespace=namespace,\n",
    "    embedding=embeddings)\n",
    "llm = ChatOpenAI(model=\"gpt-4o\",temperature=0)"
   ]
  },
  {
   "cell_type": "code",
   "execution_count": 3,
   "id": "fa7b58ae-faec-45f0-b428-cd5bc038f5d8",
   "metadata": {},
   "outputs": [],
   "source": [
    "df = pd.read_csv('testDataset.csv')\n",
    "questions=df.iloc[:, 0].tolist()\n",
    "ground_truths =df.iloc[:, 1].tolist() "
   ]
  },
  {
   "cell_type": "code",
   "execution_count": 4,
   "id": "2b5e1265-491e-4a20-8f74-508d4c5f2abe",
   "metadata": {},
   "outputs": [],
   "source": [
    "prompt_template = PromptTemplate(\n",
    "    input_variables=[\"incident\"],\n",
    "    template=\"\"\"\n",
    "    Eres un experto en sistemas de información.\n",
    "    Genera una solución al incidente descrito a continuación basado en tu conocimiento previo representado en el contexto obtenido. Si dentro del contexto compartido no se presentan incidentes similares responde que no conoces como resolver el incidente\n",
    "    Descripción del incidente: {incident}\n",
    "    \n",
    "    \"\"\"\n",
    "    )"
   ]
  },
  {
   "cell_type": "code",
   "execution_count": 5,
   "id": "a4691fb2-389c-47f8-a460-a5898f67ebb4",
   "metadata": {},
   "outputs": [],
   "source": [
    "def retrieve(user_question):\n",
    "    docs = vstore.similarity_search(user_question)\n",
    "    return docs\n",
    "def generate(docs, user_question):\n",
    "    \n",
    "    prompt = prompt_template.format(incident=user_question)\n",
    "    chain = load_qa_chain(llm, chain_type=\"stuff\")\n",
    "    response = chain.invoke({\"input_documents\":docs, \"question\":prompt})\n",
    "    return response['output_text']\n",
    "    #chain = load_qa_chain(llm, chain_type=\"stuff\")\n",
    "    #response = chain.run(input_documents=docs, question=prompt)\n",
    "    #return response"
   ]
  },
  {
   "cell_type": "code",
   "execution_count": 6,
   "id": "54fe4dab-7706-4ffa-bcc0-6b571b26f824",
   "metadata": {},
   "outputs": [
    {
     "name": "stderr",
     "output_type": "stream",
     "text": [
      "C:\\Users\\jose.farfan\\AppData\\Local\\Temp\\ipykernel_35540\\1987522355.py:7: LangChainDeprecationWarning: This class is deprecated. See the following migration guides for replacements based on `chain_type`:\n",
      "stuff: https://python.langchain.com/v0.2/docs/versions/migrating_chains/stuff_docs_chain\n",
      "map_reduce: https://python.langchain.com/v0.2/docs/versions/migrating_chains/map_reduce_chain\n",
      "refine: https://python.langchain.com/v0.2/docs/versions/migrating_chains/refine_chain\n",
      "map_rerank: https://python.langchain.com/v0.2/docs/versions/migrating_chains/map_rerank_docs_chain\n",
      "\n",
      "See also guides on retrieval and question-answering here: https://python.langchain.com/v0.2/docs/how_to/#qa-with-rag\n",
      "  chain = load_qa_chain(llm, chain_type=\"stuff\")\n"
     ]
    }
   ],
   "source": [
    "answers = []\n",
    "contexts = []\n",
    "formatted_questions = [prompt_template.format(incident=q) for q in questions]\n",
    "# Inference\n",
    "for query in formatted_questions:\n",
    "    docs=retrieve(query)\n",
    "    answers.append(generate(docs, query))\n",
    "    contexts.append([doc.page_content for doc in docs])\n",
    "\n"
   ]
  },
  {
   "cell_type": "code",
   "execution_count": 7,
   "id": "fd2280f3-d58b-44d4-b835-fb7d66ceb70a",
   "metadata": {},
   "outputs": [],
   "source": [
    "# To dict\n",
    "data = {\n",
    "    \"question\": formatted_questions,\n",
    "    \"answer\": answers,\n",
    "    \"contexts\": contexts,\n",
    "    \"ground_truth\": ground_truths\n",
    "}"
   ]
  },
  {
   "cell_type": "code",
   "execution_count": 8,
   "id": "91340d27-1646-43ca-95f0-d87ea623f72f",
   "metadata": {},
   "outputs": [],
   "source": [
    "dataset = Dataset.from_dict(data)"
   ]
  },
  {
   "cell_type": "code",
   "execution_count": 9,
   "id": "9876c3a4-7c20-4823-b715-bcb7ca59864a",
   "metadata": {},
   "outputs": [
    {
     "name": "stderr",
     "output_type": "stream",
     "text": [
      "C:\\Users\\jose.farfan\\AppData\\Local\\anaconda3\\envs\\tfm\\Lib\\site-packages\\pydantic\\_internal\\_fields.py:132: UserWarning: Field \"model_name\" in _VertexAIBase has conflict with protected namespace \"model_\".\n",
      "\n",
      "You may be able to resolve this warning by setting `model_config['protected_namespaces'] = ()`.\n",
      "  warnings.warn(\n",
      "C:\\Users\\jose.farfan\\AppData\\Local\\anaconda3\\envs\\tfm\\Lib\\site-packages\\pydantic\\_internal\\_fields.py:132: UserWarning: Field \"model_name\" in _VertexAICommon has conflict with protected namespace \"model_\".\n",
      "\n",
      "You may be able to resolve this warning by setting `model_config['protected_namespaces'] = ()`.\n",
      "  warnings.warn(\n",
      "C:\\Users\\jose.farfan\\AppData\\Local\\anaconda3\\envs\\tfm\\Lib\\site-packages\\ragas\\metrics\\__init__.py:4: LangChainDeprecationWarning: As of langchain-core 0.3.0, LangChain uses pydantic v2 internally. The langchain_core.pydantic_v1 module was a compatibility shim for pydantic v1, and should no longer be used. Please update the code to import from Pydantic directly.\n",
      "\n",
      "For example, replace imports like: `from langchain_core.pydantic_v1 import BaseModel`\n",
      "with: `from pydantic import BaseModel`\n",
      "or the v1 compatibility namespace if you are working in a code base that has not been fully upgraded to pydantic 2 yet. \tfrom pydantic.v1 import BaseModel\n",
      "\n",
      "  from ragas.metrics._answer_correctness import AnswerCorrectness, answer_correctness\n",
      "C:\\Users\\jose.farfan\\AppData\\Local\\anaconda3\\envs\\tfm\\Lib\\site-packages\\ragas\\metrics\\__init__.py:7: LangChainDeprecationWarning: As of langchain-core 0.3.0, LangChain uses pydantic v2 internally. The langchain.pydantic_v1 module was a compatibility shim for pydantic v1, and should no longer be used. Please update the code to import from Pydantic directly.\n",
      "\n",
      "For example, replace imports like: `from langchain.pydantic_v1 import BaseModel`\n",
      "with: `from pydantic import BaseModel`\n",
      "or the v1 compatibility namespace if you are working in a code base that has not been fully upgraded to pydantic 2 yet. \tfrom pydantic.v1 import BaseModel\n",
      "\n",
      "  from ragas.metrics._context_entities_recall import (\n"
     ]
    }
   ],
   "source": [
    "from ragas import evaluate\n",
    "from ragas.metrics import (\n",
    "    faithfulness,\n",
    "    answer_relevancy,\n",
    "    context_recall,\n",
    "    context_precision,\n",
    ")"
   ]
  },
  {
   "cell_type": "code",
   "execution_count": 10,
   "id": "8b3b5b5a-3c5a-41b4-b13f-b9a7cb784899",
   "metadata": {},
   "outputs": [
    {
     "name": "stderr",
     "output_type": "stream",
     "text": [
      "Evaluating: 100%|██████████| 68/68 [00:43<00:00,  1.58it/s]\n"
     ]
    }
   ],
   "source": [
    "result = evaluate(\n",
    "    dataset, \n",
    "    metrics=[\n",
    "        context_precision,\n",
    "        context_recall,\n",
    "        faithfulness,\n",
    "        answer_relevancy,\n",
    "    ],\n",
    ")\n"
   ]
  },
  {
   "cell_type": "code",
   "execution_count": 11,
   "id": "c34fdbdf-8e8f-49e6-91df-bae70e0726fa",
   "metadata": {},
   "outputs": [
    {
     "name": "stdout",
     "output_type": "stream",
     "text": [
      "{'context_precision': 0.9395, 'context_recall': 0.6127, 'faithfulness': 0.5640, 'answer_relevancy': 0.7658}\n"
     ]
    }
   ],
   "source": [
    "print(result)"
   ]
  },
  {
   "cell_type": "code",
   "execution_count": 12,
   "id": "5935b06b-0216-4d71-afea-7d2cbd57dcdd",
   "metadata": {},
   "outputs": [
    {
     "data": {
      "image/png": "[encoded data removed]",
      "text/plain": [
       "<Figure size 640x480 with 1 Axes>"
      ]
     },
     "metadata": {},
     "output_type": "display_data"
    }
   ],
   "source": [
    "# Extraer las claves y valores para el gráfico\n",
    "labels = list(result.keys())\n",
    "values = list(result.values())\n",
    "\n",
    "# Establecer el estilo del gráfico\n",
    "plt.style.use('fivethirtyeight')\n",
    "\n",
    "# Crear el gráfico de barras con colores personalizados y grosor de las barras\n",
    "colors = ['#3498db', '#e74c3c', '#2ecc71', '#f39c12']\n",
    "bars = plt.bar(labels, values, color=colors, edgecolor='black', linewidth=1.5, width=0.6)\n",
    "\n",
    "# Añadir etiquetas de valores sobre las barras\n",
    "for bar in bars:\n",
    "    yval = bar.get_height()\n",
    "    plt.text(bar.get_x() + bar.get_width()/2, yval + 0.03, f'{yval:.4f}', ha='center', va='bottom', fontsize=10, fontweight='bold', color='black')\n",
    "\n",
    "# Añadir títulos y etiquetas con fuente mejorada\n",
    "plt.title('Evaluación RAG', fontsize=18, fontweight='bold', pad=20)\n",
    "plt.xlabel('Métricas', fontsize=14, labelpad=10)\n",
    "plt.ylabel('Valores', fontsize=14, labelpad=10)\n",
    "\n",
    "# Mejorar las etiquetas de los ejes\n",
    "plt.xticks(fontsize=12, rotation=45, ha='right')\n",
    "plt.yticks(fontsize=12)\n",
    "\n",
    "# Añadir un fondo sutil al gráfico\n",
    "plt.gca().set_facecolor('#f7f7f7')\n",
    "\n",
    "# Añadir cuadrícula al eje Y con un estilo más suave\n",
    "plt.grid(axis='y', linestyle='--', alpha=0.6, color='gray')\n",
    "\n",
    "# Aumentar los márgenes para mejorar la legibilidad\n",
    "plt.ylim(0, 1.1)\n",
    "\n",
    "# Eliminar las líneas superior y derecha del marco\n",
    "plt.gca().spines['top'].set_visible(False)\n",
    "plt.gca().spines['right'].set_visible(False)\n",
    "\n",
    "# Mostrar el gráfico\n",
    "plt.show()"
   ]
  },
  {
   "cell_type": "code",
   "execution_count": 13,
   "id": "70c564c2-d33f-4317-aa1a-5e29a2de7f7c",
   "metadata": {},
   "outputs": [],
   "source": [
    "df = result.to_pandas()"
   ]
  },
  {
   "cell_type": "code",
   "execution_count": 1,
   "id": "c421a665-b41b-4d68-bc77-e9229cc148fb",
   "metadata": {},
   "outputs": [
    {
     "ename": "NameError",
     "evalue": "name 'df' is not defined",
     "output_type": "error",
     "traceback": [
      "\u001b[1;31m---------------------------------------------------------------------------\u001b[0m",
      "\u001b[1;31mNameError\u001b[0m                                 Traceback (most recent call last)",
      "Cell \u001b[1;32mIn[1], line 1\u001b[0m\n\u001b[1;32m----> 1\u001b[0m styled_df \u001b[38;5;241m=\u001b[39m df\u001b[38;5;241m.\u001b[39mstyle\u001b[38;5;241m.\u001b[39mbackground_gradient(\n\u001b[0;32m      2\u001b[0m     cmap\u001b[38;5;241m=\u001b[39m\u001b[38;5;124m'\u001b[39m\u001b[38;5;124mRdBu\u001b[39m\u001b[38;5;124m'\u001b[39m,  \u001b[38;5;66;03m# Mapa de color que va de rojo a verde\u001b[39;00m\n\u001b[0;32m      3\u001b[0m     axis\u001b[38;5;241m=\u001b[39m\u001b[38;5;28;01mNone\u001b[39;00m,  \u001b[38;5;66;03m# Aplica el gradiente en todas las columnas numéricas\u001b[39;00m\n\u001b[0;32m      4\u001b[0m     vmin\u001b[38;5;241m=\u001b[39m\u001b[38;5;241m0\u001b[39m,  \u001b[38;5;66;03m# Valor mínimo para el gradiente\u001b[39;00m\n\u001b[0;32m      5\u001b[0m     vmax\u001b[38;5;241m=\u001b[39m\u001b[38;5;241m1\u001b[39m   \u001b[38;5;66;03m# Valor máximo para el gradiente\u001b[39;00m\n\u001b[0;32m      6\u001b[0m )\n\u001b[0;32m      8\u001b[0m \u001b[38;5;66;03m# Mostrar la tabla estilizada\u001b[39;00m\n\u001b[0;32m      9\u001b[0m styled_df\n",
      "\u001b[1;31mNameError\u001b[0m: name 'df' is not defined"
     ]
    }
   ],
   "source": [
    "styled_df = df.style.background_gradient(\n",
    "    cmap='RdBu',  # Mapa de color que va de rojo a verde\n",
    "    axis=None,  # Aplica el gradiente en todas las columnas numéricas\n",
    "    vmin=0,  # Valor mínimo para el gradiente\n",
    "    vmax=1   # Valor máximo para el gradiente\n",
    ")\n",
    "\n",
    "# Mostrar la tabla estilizada\n",
    "styled_df"
   ]
  },
  {
   "cell_type": "code",
   "execution_count": 2,
   "id": "ec387324-f023-48ed-a242-aa03099c388f",
   "metadata": {},
   "outputs": [
    {
     "ename": "NameError",
     "evalue": "name 'df' is not defined",
     "output_type": "error",
     "traceback": [
      "\u001b[1;31m---------------------------------------------------------------------------\u001b[0m",
      "\u001b[1;31mNameError\u001b[0m                                 Traceback (most recent call last)",
      "Cell \u001b[1;32mIn[2], line 4\u001b[0m\n\u001b[0;32m      1\u001b[0m \u001b[38;5;28;01mimport\u001b[39;00m \u001b[38;5;21;01mpandas\u001b[39;00m \u001b[38;5;28;01mas\u001b[39;00m \u001b[38;5;21;01mpd\u001b[39;00m\n\u001b[0;32m      3\u001b[0m \u001b[38;5;66;03m# Asumiendo que ya tienes el DataFrame cargado en la variable df\u001b[39;00m\n\u001b[1;32m----> 4\u001b[0m df_tabla\u001b[38;5;241m=\u001b[39mdf[[\u001b[38;5;124m'\u001b[39m\u001b[38;5;124mquestion\u001b[39m\u001b[38;5;124m'\u001b[39m, \u001b[38;5;124m'\u001b[39m\u001b[38;5;124manswer\u001b[39m\u001b[38;5;124m'\u001b[39m, \u001b[38;5;124m'\u001b[39m\u001b[38;5;124mground_truth\u001b[39m\u001b[38;5;124m'\u001b[39m,\u001b[38;5;124m'\u001b[39m\u001b[38;5;124mcontext_precision\u001b[39m\u001b[38;5;124m'\u001b[39m, \u001b[38;5;124m'\u001b[39m\u001b[38;5;124mcontext_recall\u001b[39m\u001b[38;5;124m'\u001b[39m, \u001b[38;5;124m'\u001b[39m\u001b[38;5;124mfaithfulness\u001b[39m\u001b[38;5;124m'\u001b[39m, \u001b[38;5;124m'\u001b[39m\u001b[38;5;124manswer_relevancy\u001b[39m\u001b[38;5;124m'\u001b[39m]]\n\u001b[0;32m      6\u001b[0m \u001b[38;5;66;03m# Aplicar el gradiente de color usando Styler.background_gradient\u001b[39;00m\n\u001b[0;32m      7\u001b[0m styled_df \u001b[38;5;241m=\u001b[39m df_tabla\u001b[38;5;241m.\u001b[39mstyle\u001b[38;5;241m.\u001b[39mbackground_gradient(\n\u001b[0;32m      8\u001b[0m     cmap\u001b[38;5;241m=\u001b[39m\u001b[38;5;124m'\u001b[39m\u001b[38;5;124mRdBu\u001b[39m\u001b[38;5;124m'\u001b[39m,  \u001b[38;5;66;03m# Mapa de color que va de rojo a verde\u001b[39;00m\n\u001b[0;32m      9\u001b[0m     axis\u001b[38;5;241m=\u001b[39m\u001b[38;5;28;01mNone\u001b[39;00m,  \u001b[38;5;66;03m# Aplica el gradiente en todas las columnas numéricas\u001b[39;00m\n\u001b[0;32m     10\u001b[0m     vmin\u001b[38;5;241m=\u001b[39m\u001b[38;5;241m0\u001b[39m,  \u001b[38;5;66;03m# Valor mínimo para el gradiente\u001b[39;00m\n\u001b[0;32m     11\u001b[0m     vmax\u001b[38;5;241m=\u001b[39m\u001b[38;5;241m1\u001b[39m   \u001b[38;5;66;03m# Valor máximo para el gradiente\u001b[39;00m\n\u001b[0;32m     12\u001b[0m )\n",
      "\u001b[1;31mNameError\u001b[0m: name 'df' is not defined"
     ]
    }
   ],
   "source": [
    "import pandas as pd\n",
    "\n",
    "# Asumiendo que ya tienes el DataFrame cargado en la variable df\n",
    "df_tabla=df[['question', 'answer', 'ground_truth','context_precision', 'context_recall', 'faithfulness', 'answer_relevancy']]\n",
    "\n",
    "# Aplicar el gradiente de color usando Styler.background_gradient\n",
    "styled_df = df_tabla.style.background_gradient(\n",
    "    cmap='RdBu',  # Mapa de color que va de rojo a verde\n",
    "    axis=None,  # Aplica el gradiente en todas las columnas numéricas\n",
    "    vmin=0,  # Valor mínimo para el gradiente\n",
    "    vmax=1   # Valor máximo para el gradiente\n",
    ")\n",
    "\n",
    "# Mostrar la tabla estilizada\n",
    "styled_df"
   ]
  },
  {
   "cell_type": "code",
   "execution_count": 16,
   "id": "488c66fd-e5d7-4af6-a930-6834d2644d5e",
   "metadata": {},
   "outputs": [],
   "source": [
    "df.to_csv('resultados-tfm-rag-cohere.preprocesadoManual-chunk-2000.csv', index=False)"
   ]
  },
  {
   "cell_type": "code",
   "execution_count": null,
   "id": "4721eca8-7bea-48d7-8ab4-3387ffcb3492",
   "metadata": {},
   "outputs": [],
   "source": []
  }
 ],
 "metadata": {
  "kernelspec": {
   "display_name": "Python 3 (ipykernel)",
   "language": "python",
   "name": "python3"
  },
  "language_info": {
   "codemirror_mode": {
    "name": "ipython",
    "version": 3
   },
   "file_extension": ".py",
   "mimetype": "text/x-python",
   "name": "python",
   "nbconvert_exporter": "python",
   "pygments_lexer": "ipython3",
   "version": "3.11.7"
  }
 },
 "nbformat": 4,
 "nbformat_minor": 5
}
